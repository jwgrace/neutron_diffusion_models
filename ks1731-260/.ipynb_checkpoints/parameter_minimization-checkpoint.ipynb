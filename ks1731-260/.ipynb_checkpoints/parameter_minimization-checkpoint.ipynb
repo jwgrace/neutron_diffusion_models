{
 "cells": [
  {
   "cell_type": "code",
   "execution_count": 13,
   "id": "6e3e1214-d8c9-405a-8860-adb34b316d20",
   "metadata": {},
   "outputs": [],
   "source": [
    "import numpy as np\n",
    "import os\n",
    "import sys\n",
    "import subprocess\n",
    "import time\n",
    "from scipy.optimize import minimize"
   ]
  },
  {
   "cell_type": "code",
   "execution_count": 14,
   "id": "c0b583c8-a427-49ca-8d7a-6b8ae6fb6290",
   "metadata": {},
   "outputs": [],
   "source": [
    "def run_model(parameter_values):\n",
    "    if np.any(parameter_values <= 0):\n",
    "        return np.inf    \n",
    "    else:    \n",
    "        # Run the model and save the output chi2\n",
    "        chi2 = float(subprocess.run(['./run_dStar', '-M', str(parameter_values[0]), '-R', str(parameter_values[1]), '-T', str(parameter_values[2]), '-Q', str(parameter_values[3]), '-H', str(parameter_values[4])], capture_output=True, text=True).stdout)\n",
    "\n",
    "        return chi2"
   ]
  },
  {
   "cell_type": "code",
   "execution_count": 15,
   "id": "da5dcb4a-0b9e-4304-932f-2baa317a417b",
   "metadata": {},
   "outputs": [],
   "source": [
    "# Names of parameters to vary in dStar\n",
    "# Units are: Msun, km, K, dimensionless, MeV/nucleon\n",
    "parameter_names = ['core_mass', 'core_radius', 'core_temperature', 'Qimp', 'Q_heating_shallow']\n",
    "# Start sampling from fit_lightcurve example in dStar directory\n",
    "#parameter_values_initial = np.array([1.4, 10., 9.35e7, 4.4, 1.36])\n",
    "\n",
    "parameter_values_initial = np.array([1.4, 10., 9.35e7, 4.4, 1.36])\n",
    "\n",
    "parameter_minimum_values = np.array([1.1, 8., 8.0e7, 0.0, 0.0])\n",
    "parameter_maximum_values = np.array([2.8, 15., 1e8, 20.0, 20.0])"
   ]
  },
  {
   "cell_type": "code",
   "execution_count": 24,
   "id": "d6131201-e394-4b60-81c6-cfc07f4ddb1c",
   "metadata": {},
   "outputs": [
    {
     "name": "stdout",
     "output_type": "stream",
     "text": [
      "(5, 2)\n"
     ]
    }
   ],
   "source": [
    "parameter_bounds = np.column_stack((parameter_minimum_values, parameter_maximum_values))\n",
    "print(parameter_bounds.shape)"
   ]
  },
  {
   "cell_type": "code",
   "execution_count": 19,
   "id": "5e50f546-f048-4b90-8374-ec8615990004",
   "metadata": {},
   "outputs": [
    {
     "name": "stdout",
     "output_type": "stream",
     "text": [
      "10.132434155137213\n"
     ]
    }
   ],
   "source": [
    "parameter_values_initial = np.array([1.39, 9.9, 9.35e7, 4.2, 1.37])\n",
    "chi2 = run_model(parameter_values_initial)\n",
    "print(chi2)"
   ]
  },
  {
   "cell_type": "code",
   "execution_count": 25,
   "id": "837c2735-9859-4dfb-b05a-58b04c4dacc9",
   "metadata": {},
   "outputs": [
    {
     "name": "stderr",
     "output_type": "stream",
     "text": [
      "/home/justin/anaconda3/lib/python3.8/site-packages/scipy/optimize/_numdiff.py:557: RuntimeWarning: invalid value encountered in subtract\n",
      "  df = fun(x) - f0\n"
     ]
    },
    {
     "name": "stdout",
     "output_type": "stream",
     "text": [
      "10.132434155137213 [1.39e+00 9.90e+00 9.35e+07 4.20e+00 1.37e+00]\n"
     ]
    }
   ],
   "source": [
    "fit = minimize(run_model, parameter_values_initial, bounds=parameter_bounds)\n",
    "print(fit.fun, fit.x)"
   ]
  },
  {
   "cell_type": "code",
   "execution_count": 26,
   "id": "a8231091-f15e-4480-aa36-3d08837ee87f",
   "metadata": {
    "tags": []
   },
   "outputs": [
    {
     "name": "stdout",
     "output_type": "stream",
     "text": [
      "4797.096797965794 [1.38e+00 1.00e+01 9.50e+07 1.00e+01 5.00e+00]\n",
      "4797.096797965794 [1.38e+00 1.00e+01 9.50e+07 1.00e+01 5.00e+00]\n",
      "4797.096797965794 [1.38e+00 1.00e+01 9.50e+07 1.00e+01 5.00e+00]\n",
      "4797.096797965794 [1.38e+00 1.00e+01 9.50e+07 1.00e+01 5.00e+00]\n",
      "4797.096797965794 [1.38e+00 1.00e+01 9.50e+07 1.00e+01 5.00e+00]\n",
      "4797.096797965794 [1.38e+00 1.00e+01 9.50e+07 1.00e+01 5.00e+00]\n"
     ]
    },
    {
     "ename": "ValueError",
     "evalue": "Jacobian is required for dogleg minimization",
     "output_type": "error",
     "traceback": [
      "\u001b[0;31m---------------------------------------------------------------------------\u001b[0m",
      "\u001b[0;31mValueError\u001b[0m                                Traceback (most recent call last)",
      "\u001b[0;32m/tmp/ipykernel_20817/3350454425.py\u001b[0m in \u001b[0;36m<module>\u001b[0;34m\u001b[0m\n\u001b[1;32m      3\u001b[0m \u001b[0;34m\u001b[0m\u001b[0m\n\u001b[1;32m      4\u001b[0m \u001b[0;32mfor\u001b[0m \u001b[0mmethod\u001b[0m \u001b[0;32min\u001b[0m \u001b[0mmethods\u001b[0m\u001b[0;34m:\u001b[0m\u001b[0;34m\u001b[0m\u001b[0;34m\u001b[0m\u001b[0m\n\u001b[0;32m----> 5\u001b[0;31m     \u001b[0mfit\u001b[0m \u001b[0;34m=\u001b[0m \u001b[0mminimize\u001b[0m\u001b[0;34m(\u001b[0m\u001b[0mrun_model\u001b[0m\u001b[0;34m,\u001b[0m \u001b[0mparameter_values_initial\u001b[0m\u001b[0;34m,\u001b[0m \u001b[0margs\u001b[0m\u001b[0;34m=\u001b[0m\u001b[0;34m(\u001b[0m\u001b[0mparameter_names\u001b[0m\u001b[0;34m)\u001b[0m\u001b[0;34m,\u001b[0m \u001b[0mmethod\u001b[0m\u001b[0;34m=\u001b[0m\u001b[0mmethod\u001b[0m\u001b[0;34m)\u001b[0m\u001b[0;34m\u001b[0m\u001b[0;34m\u001b[0m\u001b[0m\n\u001b[0m\u001b[1;32m      6\u001b[0m     \u001b[0mprint\u001b[0m\u001b[0;34m(\u001b[0m\u001b[0mfit\u001b[0m\u001b[0;34m.\u001b[0m\u001b[0mfun\u001b[0m\u001b[0;34m,\u001b[0m \u001b[0mfit\u001b[0m\u001b[0;34m.\u001b[0m\u001b[0mx\u001b[0m\u001b[0;34m)\u001b[0m\u001b[0;34m\u001b[0m\u001b[0;34m\u001b[0m\u001b[0m\n",
      "\u001b[0;32m~/anaconda3/lib/python3.8/site-packages/scipy/optimize/_minimize.py\u001b[0m in \u001b[0;36mminimize\u001b[0;34m(fun, x0, args, method, jac, hess, hessp, bounds, constraints, tol, callback, options)\u001b[0m\n\u001b[1;32m    636\u001b[0m                                             callback=callback, **options)\n\u001b[1;32m    637\u001b[0m     \u001b[0;32melif\u001b[0m \u001b[0mmeth\u001b[0m \u001b[0;34m==\u001b[0m \u001b[0;34m'dogleg'\u001b[0m\u001b[0;34m:\u001b[0m\u001b[0;34m\u001b[0m\u001b[0;34m\u001b[0m\u001b[0m\n\u001b[0;32m--> 638\u001b[0;31m         return _minimize_dogleg(fun, x0, args, jac, hess,\n\u001b[0m\u001b[1;32m    639\u001b[0m                                 callback=callback, **options)\n\u001b[1;32m    640\u001b[0m     \u001b[0;32melif\u001b[0m \u001b[0mmeth\u001b[0m \u001b[0;34m==\u001b[0m \u001b[0;34m'trust-ncg'\u001b[0m\u001b[0;34m:\u001b[0m\u001b[0;34m\u001b[0m\u001b[0;34m\u001b[0m\u001b[0m\n",
      "\u001b[0;32m~/anaconda3/lib/python3.8/site-packages/scipy/optimize/_trustregion_dogleg.py\u001b[0m in \u001b[0;36m_minimize_dogleg\u001b[0;34m(fun, x0, args, jac, hess, **trust_region_options)\u001b[0m\n\u001b[1;32m     28\u001b[0m     \"\"\"\n\u001b[1;32m     29\u001b[0m     \u001b[0;32mif\u001b[0m \u001b[0mjac\u001b[0m \u001b[0;32mis\u001b[0m \u001b[0;32mNone\u001b[0m\u001b[0;34m:\u001b[0m\u001b[0;34m\u001b[0m\u001b[0;34m\u001b[0m\u001b[0m\n\u001b[0;32m---> 30\u001b[0;31m         \u001b[0;32mraise\u001b[0m \u001b[0mValueError\u001b[0m\u001b[0;34m(\u001b[0m\u001b[0;34m'Jacobian is required for dogleg minimization'\u001b[0m\u001b[0;34m)\u001b[0m\u001b[0;34m\u001b[0m\u001b[0;34m\u001b[0m\u001b[0m\n\u001b[0m\u001b[1;32m     31\u001b[0m     \u001b[0;32mif\u001b[0m \u001b[0mhess\u001b[0m \u001b[0;32mis\u001b[0m \u001b[0;32mNone\u001b[0m\u001b[0;34m:\u001b[0m\u001b[0;34m\u001b[0m\u001b[0;34m\u001b[0m\u001b[0m\n\u001b[1;32m     32\u001b[0m         \u001b[0;32mraise\u001b[0m \u001b[0mValueError\u001b[0m\u001b[0;34m(\u001b[0m\u001b[0;34m'Hessian is required for dogleg minimization'\u001b[0m\u001b[0;34m)\u001b[0m\u001b[0;34m\u001b[0m\u001b[0;34m\u001b[0m\u001b[0m\n",
      "\u001b[0;31mValueError\u001b[0m: Jacobian is required for dogleg minimization"
     ]
    }
   ],
   "source": [
    "#methods = ['Nelder-Mead','Powell','CG','BFGS','Newton-CG','L-BFGS-B','TNC','COBYLA','SLSQP','trust-constr','dogleg','trust-ncg','trust-exact','trust-krylov']\n",
    "methods = ['CG','BFGS','L-BFGS-B','TNC','SLSQP','trust-constr','dogleg','trust-ncg','trust-exact','trust-krylov']\n",
    "\n",
    "for method in methods:\n",
    "    fit = minimize(run_model, parameter_values_initial, args=(parameter_names), method=method)\n",
    "    print(fit.fun, fit.x)"
   ]
  },
  {
   "cell_type": "code",
   "execution_count": 22,
   "id": "45c281f2-7d6a-41ba-bcbb-9e68317b3b64",
   "metadata": {},
   "outputs": [
    {
     "name": "stdout",
     "output_type": "stream",
     "text": [
      "3033.891856488135 [1.6e+00 1.1e+01 9.5e+07 1.0e+01 5.0e+00]\n"
     ]
    }
   ],
   "source": [
    "fit = minimize(run_model, parameter_values_initial, args=(parameter_names), method='CG')\n",
    "print(fit.fun, fit.x)"
   ]
  },
  {
   "cell_type": "code",
   "execution_count": null,
   "id": "51bce97b-c48f-47bd-bea0-5f588f177094",
   "metadata": {},
   "outputs": [],
   "source": []
  }
 ],
 "metadata": {
  "kernelspec": {
   "display_name": "Python 3 (ipykernel)",
   "language": "python",
   "name": "python3"
  },
  "language_info": {
   "codemirror_mode": {
    "name": "ipython",
    "version": 3
   },
   "file_extension": ".py",
   "mimetype": "text/x-python",
   "name": "python",
   "nbconvert_exporter": "python",
   "pygments_lexer": "ipython3",
   "version": "3.8.11"
  }
 },
 "nbformat": 4,
 "nbformat_minor": 5
}
